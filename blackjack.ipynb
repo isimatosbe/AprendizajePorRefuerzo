{
 "cells": [
  {
   "cell_type": "markdown",
   "metadata": {},
   "source": [
    "# Enseñando a un agente a jugar al Blackjack"
   ]
  },
  {
   "cell_type": "markdown",
   "metadata": {},
   "source": [
    "Usaremos el método de Monte Carlo para políticas $\\varepsilon$-suaves para encontrar una política óptima con la que jugar al blackjack. Para ello usaremos la API de [OpenAI Gym](https://www.gymlibrary.ml/) y asumiremos que el crupier sigue la política 17 *soft*, es decir, pedirá cartas siempre que sus cartas sumen menos de 17 y se plantará en 17 o más."
   ]
  },
  {
   "cell_type": "code",
   "execution_count": 1,
   "metadata": {},
   "outputs": [],
   "source": [
    "import gym\n",
    "import numpy as np\n",
    "import matplotlib.pyplot as plt \n",
    "from collections import defaultdict\n",
    "from time import time"
   ]
  },
  {
   "cell_type": "markdown",
   "metadata": {},
   "source": [
    "## Definición del agente\n",
    "Lo primero que haremos será definir la clase `Agent` que almacenará toda la información relevante sobre el agente."
   ]
  },
  {
   "cell_type": "code",
   "execution_count": 2,
   "metadata": {},
   "outputs": [],
   "source": [
    "class Agent():\n",
    "\n",
    "    # eps      : Grado de exploración\n",
    "    # gamma    : Tasa de descuento\n",
    "    # nActions : Tamaño del espacio de acciones\n",
    "    def __init__(self, eps = 0.1, gamma = 1, nActions = 2):\n",
    "        self.eps = eps\n",
    "        self.gamma = gamma\n",
    "        self.nActions = nActions\n",
    "\n",
    "        # pi : Diccionario que determinará cual es la acción voraz para cada estado\n",
    "        # Q  : Diccionario que almacenrá la función de valor para los pares estado-acción\n",
    "        self.pi = defaultdict(lambda: 0)\n",
    "        self.Q = defaultdict(lambda: 0)\n",
    "\n",
    "    # La función e_greedy(state) recibe un estado y devuelve la acción que deberá realizar\n",
    "    # el agente siguiendo una política epsilón-voraz\n",
    "    def e_greedy(self, state):\n",
    "        if np.random.random() < self.eps:\n",
    "            action = env.action_space.sample()\n",
    "        else:\n",
    "            action = self.pi[state]\n",
    "        return action\n",
    "\n",
    "    # La función greedyAction(state) calcula dado un estado cual es la acción voraz según\n",
    "    # la aproximación de Q actual\n",
    "    def greedyAction(self, state):\n",
    "        values = [self.Q[state,action] for action in range(self.nActions)]\n",
    "        return np.argmax(values)\n",
    "\n",
    "    # La función episodeSample() ejecuta un episodio completo, es decir, juega una partida\n",
    "    # de blackjack completa y devuelve los pares estado-acción experimentados así como\n",
    "    # las recompensas obtenidas\n",
    "    def episodeSample(self):\n",
    "        stateActionPairs = []\n",
    "        rewards = []\n",
    "\n",
    "        state = env.reset()\n",
    "\n",
    "        done = False\n",
    "        while not done:\n",
    "            action = self.e_greedy(state)\n",
    "            stateActionPairs.append((state,action))\n",
    "\n",
    "            state, reward, done, _ = env.step(action)\n",
    "\n",
    "            rewards.append(reward)\n",
    "\n",
    "        return stateActionPairs, rewards"
   ]
  },
  {
   "cell_type": "markdown",
   "metadata": {},
   "source": [
    "## Definición del entramiento del agente\n",
    "\n",
    "Una vez definido el comportamiento del agente simplemente debemos de implementar el método de Monte Carlo que queremos y lo ejecutamos mientras no se cumpla la condición de parada. En este caso la condición de parada es que se visiten todos los pares estado-acción al menos `threshold` veces, donde `threshold` es una variable que podemos pasarle a la función `run`."
   ]
  },
  {
   "cell_type": "code",
   "execution_count": 3,
   "metadata": {},
   "outputs": [],
   "source": [
    "def run(env = gym.make(\"Blackjack-v1\",sab=True), agent = Agent(), threshold = 1000):\n",
    "    # Hay un total de 560 pares estados-acción, iremos contando cuantos de ellos se han\n",
    "    # visitado al menos threshold veces\n",
    "    visitedStates = 0\n",
    "\n",
    "    # counts es el diccionario que nos ayudará a almacenar la cantidad de veces que se \n",
    "    # ha visitado un par estado-acción\n",
    "    counts = defaultdict(lambda: 0)\n",
    "\n",
    "    nEpisodes = 1\n",
    "    t0 = time()\n",
    "\n",
    "    # Mientras no se hayan visitado al menos threshold veces los 560 pares seguiremos\n",
    "    # entrenando al agente \n",
    "    while visitedStates < 560:\n",
    "        stateActionPairs, rewards = agent.episodeSample()\n",
    "        G = 0\n",
    "\n",
    "        for t in range(len(stateActionPairs))[::-1]:\n",
    "            G = agent.gamma * G + rewards[t]\n",
    "\n",
    "            if stateActionPairs[t] not in stateActionPairs[:t]:\n",
    "                stateActionPair = stateActionPairs[t]\n",
    "                state, action = stateActionPairs[t]\n",
    "                agent.Q[stateActionPair] = (agent.Q[stateActionPair]*counts[stateActionPair] + G)/(counts[stateActionPair] + 1)\n",
    "\n",
    "                greedyAction = agent.greedyAction(state)\n",
    "                agent.pi[state] = greedyAction\n",
    "                \n",
    "                counts[stateActionPair] += 1\n",
    "                # Una vez un par se ha visitado threshold veces se hace un print para\n",
    "                # saber como va avanzando el entrenamiento\n",
    "                if counts[stateActionPair] == threshold:\n",
    "                    visitedStates += 1\n",
    "                    print(\"\\r[%.2fs] Pares estado-acción completos %i/560 (Número total de episodios %i) --> Último par estado-acción completo %s\" \\\n",
    "                          %(time()-t0,visitedStates,nEpisodes,stateActionPair), end=\"\", flush=True)\n",
    "\n",
    "        nEpisodes += 1\n",
    "\n",
    "    print(\"\\nEntrenamiento terminado en %.2fs y tras %i episodios.\"%(time()-t0,nEpisodes))\n",
    "    \n",
    "    return counts"
   ]
  },
  {
   "cell_type": "markdown",
   "metadata": {},
   "source": [
    "Una vez definida todas las funciones necesarias solo queda crear el entorno de trabajo en Gym, crear el agente y entrenarlo."
   ]
  },
  {
   "cell_type": "code",
   "execution_count": 4,
   "metadata": {},
   "outputs": [
    {
     "name": "stdout",
     "output_type": "stream",
     "text": [
      "[3126.90s] Pares estado-acción completos 560/560 (Número total de episodios 47090703) --> Último par estado-acción completo ((12, 4, True), 0)\n",
      "Entrenamiento terminado en 3126.90s y tras 47090704 episodios.\n"
     ]
    }
   ],
   "source": [
    "env = gym.make(\"Blackjack-v1\",sab=True)\n",
    "agent = Agent()\n",
    "counts = run(env,agent,1000)"
   ]
  },
  {
   "cell_type": "markdown",
   "metadata": {},
   "source": [
    "El entrenamiento dura unos 50 minutos en mi ordenador."
   ]
  },
  {
   "cell_type": "markdown",
   "metadata": {},
   "source": [
    "## Representación de la política obtenida\n",
    "Por último la función `graphs` nos permite representar graficamente la política obtenida."
   ]
  },
  {
   "cell_type": "code",
   "execution_count": 5,
   "metadata": {},
   "outputs": [],
   "source": [
    "def graphs(agent, save=False):\n",
    "    pi = agent.pi\n",
    "    \n",
    "    usable_HIT = [state[:2] for state in pi.keys() if state[2] and pi[state] == 1]\n",
    "    usable_HIT = list(map(lambda a: (max([b[0] for b in usable_HIT if b[1] == a]),a),range(1,11)))\n",
    "    usable_x = [pair[1] for pair in usable_HIT]\n",
    "    usable_y = [pair[0] for pair in usable_HIT]\n",
    "\n",
    "    noUsable_HIT = [state[:2] for state in pi.keys() if not state[2] and pi[state] == 1]\n",
    "    noUsable_HIT = list(map(lambda a: (max([b[0] for b in noUsable_HIT if b[1] == a]),a),range(1,11)))\n",
    "    noUsable_x = [pair[1] for pair in noUsable_HIT]\n",
    "    noUsable_y = [pair[0] for pair in noUsable_HIT]\n",
    "\n",
    "    fig1, ax1 = plt.subplots(1,1,figsize=(5,5))\n",
    "    ax1.set_facecolor(\"indianred\")\n",
    "    ax1.bar(usable_x,usable_y,width=1,color='seagreen')\n",
    "    ax1.set_ylim([10,21]);\n",
    "    ax1.set_xlim([0.5,10.5]);\n",
    "    ax1.set_xticks(range(1,11));\n",
    "    ax1.set_yticks(range(10,22));\n",
    "    ax1.text(4.15,18.75,\"STICK\",fontsize=20);\n",
    "    ax1.text(4.75,13.5,\"HIT\",fontsize=20);\n",
    "    ax1.set_xlabel(\"Suma cartas crupier\",fontsize=16)\n",
    "    ax1.set_ylabel(\"Suma cartas jugador\",fontsize=16)\n",
    "    if save:\n",
    "        plt.savefig(\"usable.png\",format=\"png\",dpi=600)\n",
    "\n",
    "    fig2, ax2 = plt.subplots(1,1,figsize=(5,5))\n",
    "    ax2.set_facecolor(\"indianred\")\n",
    "    # Normalmente hay 2 pares para los que se obtienen resultados distintos a los presentados\n",
    "    # en Reinforcement Learning de Richard S. Sutton y Andrew G. Barto, por lo que los \n",
    "    # recalcaremos en azul\n",
    "    ax2.bar(3,12,width=1,color='lightsteelblue')\n",
    "    ax2.bar(10,16,width=1,color='lightsteelblue')\n",
    "    ax2.bar(noUsable_x,noUsable_y,width=1,color='seagreen')\n",
    "    ax2.set_ylim([10,21]);\n",
    "    ax2.set_xlim([0.5,10.5]);\n",
    "    ax2.set_xticks(range(1,11));\n",
    "    ax2.set_yticks(range(10,22));\n",
    "    ax2.text(3,17.25,\"STICK\",fontsize=20);\n",
    "    ax2.text(7.85,13,\"HIT\",fontsize=20);\n",
    "    ax2.set_xlabel(\"Suma cartas crupier\",fontsize=16)\n",
    "    ax2.set_ylabel(\"Suma cartas jugador\",fontsize=16)\n",
    "    if save:\n",
    "        plt.savefig(\"noUsable.png\",format=\"png\",dpi=600)"
   ]
  },
  {
   "cell_type": "code",
   "execution_count": 6,
   "metadata": {},
   "outputs": [
    {
     "data": {
      "image/png": "[encoded data removed]",
      "text/plain": [
       "<Figure size 360x360 with 1 Axes>"
      ]
     },
     "metadata": {
      "needs_background": "light"
     },
     "output_type": "display_data"
    },
    {
     "data": {
      "image/png": "[encoded data removed]",
      "text/plain": [
       "<Figure size 360x360 with 1 Axes>"
      ]
     },
     "metadata": {
      "needs_background": "light"
     },
     "output_type": "display_data"
    }
   ],
   "source": [
    "graphs(agent)"
   ]
  }
 ],
 "metadata": {
  "kernelspec": {
   "display_name": "Python 3.10.4 ('rl')",
   "language": "python",
   "name": "python3"
  },
  "language_info": {
   "codemirror_mode": {
    "name": "ipython",
    "version": 3
   },
   "file_extension": ".py",
   "mimetype": "text/x-python",
   "name": "python",
   "nbconvert_exporter": "python",
   "pygments_lexer": "ipython3",
   "version": "3.10.4"
  },
  "orig_nbformat": 4,
  "vscode": {
   "interpreter": {
    "hash": "24735ac71df0316abd6bbf8b9ba4480441146c4cc3a2ba42554fcf5804d00c0e"
   }
  }
 },
 "nbformat": 4,
 "nbformat_minor": 2
}
